{
 "cells": [
  {
   "cell_type": "code",
   "execution_count": 1,
   "metadata": {},
   "outputs": [],
   "source": [
    "import os\n",
    "import sys\n",
    "import yaml"
   ]
  },
  {
   "cell_type": "code",
   "execution_count": 2,
   "metadata": {},
   "outputs": [],
   "source": [
    "import discord\n",
    "import pandas as pd\n",
    "import numpy as np\n",
    "from discord.ext import commands\n",
    "from Bio import Entrez\n",
    "from bs4 import BeautifulSoup \n",
    "import requests\n"
   ]
  },
  {
   "cell_type": "code",
   "execution_count": 3,
   "metadata": {},
   "outputs": [],
   "source": [
    "from pubmed_scraper import *\n",
    "from bvsalud_scraper import *\n",
    "from read_cred import *"
   ]
  },
  {
   "cell_type": "code",
   "execution_count": 4,
   "metadata": {},
   "outputs": [],
   "source": [
    "import nest_asyncio\n",
    "nest_asyncio.apply()"
   ]
  },
  {
   "cell_type": "code",
   "execution_count": 5,
   "metadata": {},
   "outputs": [],
   "source": [
    "secret_file = 'credentials.yaml'\n",
    "credentials = read_secret(secret_file)\n",
    "discord_token = credentials['discord_token']\n",
    "discord_channel = credentials['discord_channel']"
   ]
  },
  {
   "cell_type": "code",
   "execution_count": 7,
   "metadata": {},
   "outputs": [],
   "source": [
    "intents = discord.Intents.all()"
   ]
  },
  {
   "cell_type": "code",
   "execution_count": 8,
   "metadata": {},
   "outputs": [],
   "source": [
    "bot = commands.Bot(\n",
    "    command_prefix= \"+\",\n",
    "    description= 'Bot',\n",
    "    intents= intents\n",
    ")"
   ]
  },
  {
   "cell_type": "code",
   "execution_count": 9,
   "metadata": {},
   "outputs": [],
   "source": [
    "@bot.event\n",
    "async def on_ready():\n",
    "    print(f\"Bot is ready. Connected to {len(bot.guilds)} servers.\")"
   ]
  },
  {
   "cell_type": "code",
   "execution_count": 10,
   "metadata": {},
   "outputs": [],
   "source": [
    "@bot.event\n",
    "async def on_message(message):\n",
    "    # print(\"message: \", message)\n",
    "    # print(f\"USER - {message.author} texted - {message.content}\")\n",
    "    await bot.process_commands(message)"
   ]
  },
  {
   "cell_type": "code",
   "execution_count": 11,
   "metadata": {},
   "outputs": [],
   "source": [
    "@bot.event\n",
    "async def on_member_join(member):\n",
    "    welcome_channel = bot.get_channel(discord_channel)\n",
    "    welcome_message = f'Bienvenido a researcher, {member.mention}!'\n",
    "    await welcome_channel.send(welcome_message)"
   ]
  },
  {
   "cell_type": "code",
   "execution_count": 12,
   "metadata": {},
   "outputs": [],
   "source": [
    "@bot.command()\n",
    "async def hola(ctx):\n",
    "    print(\"Command received\")\n",
    "    await ctx.send(\"Hola! \\nRecibi los ultimos titulos publicados en BVSALUD y PUBMED\")\n",
    "    await ctx.send(\"\\nEscribi lo siguiente: \\n+pubmed palabra y/o palabras claves \\n+bvsalud palabra y/o palabras claves\")\n",
    "    await ctx.send(\"\\n+adios para salir\")\n",
    "    await ctx.send(\"\\n+hola para comenzar de nuevo si saliste\")"
   ]
  },
  {
   "cell_type": "code",
   "execution_count": 13,
   "metadata": {},
   "outputs": [],
   "source": [
    "# Command to return titles \n",
    "@bot.command()\n",
    "async def pubmed(ctx, *args ):\n",
    "    user_query = ' '.join(args)\n",
    "    print(\"Command received\")\n",
    "    try:\n",
    "        df = get_df_pubmed(user_query)\n",
    "        titles = [f'{index + 1}: {title}\\n' for index, title \n",
    "            in enumerate(df['Title'].tolist())]\n",
    "        await ctx.send(f'Estos son los ultimos titulos publicados en PUBMED')\n",
    "        await ctx.send(''.join(titles))\n",
    "        file_path = 'pubmed_titles.xlsx'\n",
    "        df.to_excel(file_path, index= False)\n",
    "\n",
    "        with open(file_path, 'rb') as file:\n",
    "            await ctx.send(file= discord.File(file, filename='pubmed_titles.xlsx'))\n",
    "\n",
    "        os.remove(file_path)\n",
    "\n",
    "    except Exception as e: \n",
    "        await ctx.send(f'Ocurrio un error:{e}')     "
   ]
  },
  {
   "cell_type": "code",
   "execution_count": 14,
   "metadata": {},
   "outputs": [],
   "source": [
    "# Command to return titles \n",
    "@bot.command()\n",
    "async def bvsalud(ctx, *args):\n",
    "    user_query = concatenate_query(args)\n",
    "    print(\"Command received\")\n",
    "    #print(user_query)\n",
    "    try: \n",
    "      df = get_bvsalud(user_query)\n",
    "      #print(df.columns)\n",
    "      titles = [f'{index + 1}: {title}\\n' for index, title \n",
    "          in enumerate(df['Title'].tolist())]\n",
    "      await ctx.send(f'Estos son los ultimos titulos publicados en BVSALUD')\n",
    "      await ctx.send(''.join(titles))\n",
    "      file_path = 'bvsalud_titles.xlsx'\n",
    "      df.to_excel(file_path, index= False)\n",
    "\n",
    "      with open(file_path, 'rb') as file:\n",
    "        await ctx.send(file= discord.File(file, filename='bvsalud_titles.xlsx'))\n",
    "\n",
    "      os.remove(file_path)\n",
    "    except Exception as e:\n",
    "      await ctx.send(f'Ocurrio un error:{e}') "
   ]
  },
  {
   "cell_type": "code",
   "execution_count": 15,
   "metadata": {},
   "outputs": [],
   "source": [
    "@bot.command()\n",
    "async def adios(ctx):\n",
    "    await ctx.send(f'Hasta luego..!')\n",
    "    await bot.close()"
   ]
  },
  {
   "cell_type": "code",
   "execution_count": 16,
   "metadata": {},
   "outputs": [
    {
     "name": "stderr",
     "output_type": "stream",
     "text": [
      "[2023-07-28 15:45:10] [INFO    ] discord.client: logging in using static token\n",
      "[2023-07-28 15:45:12] [INFO    ] discord.gateway: Shard ID None has connected to Gateway (Session ID: ef68a4961194913b8820d073712c6f86).\n"
     ]
    },
    {
     "name": "stdout",
     "output_type": "stream",
     "text": [
      "Bot is ready. Connected to 1 servers.\n",
      "Command received\n"
     ]
    }
   ],
   "source": [
    "# Run the bot with your bot token\n",
    "bot.run(discord_token)"
   ]
  },
  {
   "cell_type": "code",
   "execution_count": null,
   "metadata": {},
   "outputs": [],
   "source": []
  }
 ],
 "metadata": {
  "kernelspec": {
   "display_name": "bot",
   "language": "python",
   "name": "python3"
  },
  "language_info": {
   "codemirror_mode": {
    "name": "ipython",
    "version": 3
   },
   "file_extension": ".py",
   "mimetype": "text/x-python",
   "name": "python",
   "nbconvert_exporter": "python",
   "pygments_lexer": "ipython3",
   "version": "3.10.0"
  },
  "orig_nbformat": 4
 },
 "nbformat": 4,
 "nbformat_minor": 2
}
